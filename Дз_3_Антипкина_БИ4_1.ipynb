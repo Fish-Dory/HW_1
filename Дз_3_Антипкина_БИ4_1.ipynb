{
  "nbformat": 4,
  "nbformat_minor": 0,
  "metadata": {
    "colab": {
      "provenance": [],
      "authorship_tag": "ABX9TyMnRc8JBY5xomkeihN3TdFa",
      "include_colab_link": true
    },
    "kernelspec": {
      "name": "python3",
      "display_name": "Python 3"
    },
    "language_info": {
      "name": "python"
    }
  },
  "cells": [
    {
      "cell_type": "markdown",
      "metadata": {
        "id": "view-in-github",
        "colab_type": "text"
      },
      "source": [
        "<a href=\"https://colab.research.google.com/github/Fish-Dory/IT-service-/blob/main/%D0%94%D0%B7_3_%D0%90%D0%BD%D1%82%D0%B8%D0%BF%D0%BA%D0%B8%D0%BD%D0%B0_%D0%91%D0%984_1.ipynb\" target=\"_parent\"><img src=\"https://colab.research.google.com/assets/colab-badge.svg\" alt=\"Open In Colab\"/></a>"
      ]
    },
    {
      "cell_type": "markdown",
      "source": [
        "Домашнее задание 3.\n",
        "\n",
        "Построить следующие виды распределений:\n",
        "\n",
        "beta(a, b[, size]) — бета-распределение;\n",
        "\n",
        "binomial(n, p[, size]) — биномиальное распределение;\n",
        "\n",
        "exponential([scale, size]) — экспоненциальное распределение;\n",
        "\n",
        "gamma(shape[, scale, size]) — гамма-распределение;\n",
        "\n",
        "geometric(p[, size]) — геометрическое распределение;\n",
        "\n",
        "normal([loc, scale, size]) — нормальное распределение;\n",
        "\n",
        "poisson([lam, size]) — пуассоновское распределение;\n",
        "\n",
        "uniform([low, high, size]) — равномерное распределение."
      ],
      "metadata": {
        "id": "OjDHfbmuJUFt"
      }
    },
    {
      "cell_type": "markdown",
      "source": [
        "1. beta(a, b[, size]) — бета-распределение;\n"
      ],
      "metadata": {
        "id": "gDqEkq-TMs_C"
      }
    },
    {
      "cell_type": "code",
      "source": [
        "import numpy as np\n",
        "import matplotlib.pyplot as plt\n",
        "\n",
        "# Указываем параметры распределения\n",
        "a = 2\n",
        "b = 5\n",
        "\n",
        "# Генерируем выборку из бета-распределения\n",
        "beta_data = np.random.beta(a, b, 200)\n",
        "beta_data"
      ],
      "metadata": {
        "colab": {
          "base_uri": "https://localhost:8080/"
        },
        "id": "aRpcM0NSJVq7",
        "outputId": "503da81a-7076-4678-fcdb-8b949b88a092"
      },
      "execution_count": null,
      "outputs": [
        {
          "output_type": "execute_result",
          "data": {
            "text/plain": [
              "array([0.25638313, 0.14550246, 0.05363118, 0.33776271, 0.18251314,\n",
              "       0.19206888, 0.47578563, 0.17880694, 0.14610066, 0.59519099,\n",
              "       0.29900327, 0.37180681, 0.63523031, 0.28468749, 0.20843151,\n",
              "       0.18591492, 0.53337385, 0.17915601, 0.02619547, 0.20614508,\n",
              "       0.2596451 , 0.56862806, 0.10571721, 0.39316802, 0.35027609,\n",
              "       0.31162845, 0.55748536, 0.36806377, 0.39467902, 0.57436441,\n",
              "       0.46370324, 0.25435647, 0.41671926, 0.3489994 , 0.13104843,\n",
              "       0.53705023, 0.30245868, 0.38414359, 0.12455094, 0.10852955,\n",
              "       0.11143909, 0.36756577, 0.30732206, 0.44237801, 0.39744766,\n",
              "       0.0504527 , 0.5716328 , 0.20863577, 0.07240258, 0.22630166,\n",
              "       0.31992312, 0.22563468, 0.39083837, 0.19822736, 0.26039191,\n",
              "       0.12492557, 0.17914365, 0.35483135, 0.49022439, 0.62318498,\n",
              "       0.24055312, 0.69003732, 0.0914115 , 0.41396195, 0.26092268,\n",
              "       0.59689423, 0.25704893, 0.12429513, 0.47686463, 0.14952376,\n",
              "       0.51300614, 0.24081545, 0.17246445, 0.32313957, 0.42407065,\n",
              "       0.47635837, 0.44432744, 0.39192118, 0.52362345, 0.34810598,\n",
              "       0.52787102, 0.33788802, 0.11606153, 0.43622825, 0.500838  ,\n",
              "       0.48822812, 0.5245473 , 0.07074471, 0.49695755, 0.17178144,\n",
              "       0.31319631, 0.43264633, 0.40775928, 0.32170622, 0.26771071,\n",
              "       0.43564968, 0.17006328, 0.12303753, 0.13536681, 0.21406968,\n",
              "       0.1902762 , 0.04114161, 0.30807356, 0.42060097, 0.19792583,\n",
              "       0.23563482, 0.17510996, 0.04625675, 0.29044223, 0.2292386 ,\n",
              "       0.30074719, 0.34635293, 0.1922574 , 0.29586419, 0.15780957,\n",
              "       0.17589061, 0.36498214, 0.60806519, 0.47564917, 0.04780966,\n",
              "       0.45664966, 0.2478961 , 0.12019797, 0.31288626, 0.1703705 ,\n",
              "       0.28024973, 0.25259751, 0.32948407, 0.27053667, 0.35255908,\n",
              "       0.22832594, 0.0194068 , 0.22679716, 0.34750915, 0.11249145,\n",
              "       0.35457855, 0.29099939, 0.01289803, 0.34920583, 0.22489284,\n",
              "       0.39839718, 0.24415748, 0.34697953, 0.29568756, 0.22944139,\n",
              "       0.45721783, 0.4256286 , 0.09870998, 0.49792599, 0.07399178,\n",
              "       0.20389538, 0.4216871 , 0.08871272, 0.29928958, 0.32692729,\n",
              "       0.24678767, 0.09613017, 0.41119075, 0.22622975, 0.32208653,\n",
              "       0.15316199, 0.22047492, 0.22431969, 0.23490462, 0.05475712,\n",
              "       0.32879033, 0.20344163, 0.19414115, 0.10254702, 0.57951394,\n",
              "       0.47657618, 0.42705873, 0.11948686, 0.13431223, 0.35283561,\n",
              "       0.05376711, 0.37707106, 0.27975317, 0.23833361, 0.39995676,\n",
              "       0.04645359, 0.19654228, 0.48761573, 0.46671679, 0.13641366,\n",
              "       0.12360738, 0.04008686, 0.14698891, 0.06974472, 0.49518347,\n",
              "       0.15092689, 0.21770544, 0.38276056, 0.38656393, 0.68691418,\n",
              "       0.329782  , 0.41552246, 0.42124533, 0.56144499, 0.39376661])"
            ]
          },
          "metadata": {},
          "execution_count": 6
        }
      ]
    },
    {
      "cell_type": "code",
      "source": [
        "# Строим гистограмму для визуализации распределения\n",
        "plt.hist(beta_data, bins=20, color='g')\n",
        "plt.title('Beta Distribution')\n",
        "plt.show()"
      ],
      "metadata": {
        "colab": {
          "base_uri": "https://localhost:8080/",
          "height": 452
        },
        "id": "j2aFgeHCL2hU",
        "outputId": "64371be3-2089-44f0-93a2-5d0936335b49"
      },
      "execution_count": null,
      "outputs": [
        {
          "output_type": "display_data",
          "data": {
            "text/plain": [
              "<Figure size 640x480 with 1 Axes>"
            ],
            "image/png": "[encoded data removed]"
          },
          "metadata": {}
        }
      ]
    },
    {
      "cell_type": "markdown",
      "source": [
        "\n",
        "2. binomial(n, p[, size]) — биномиальное распределение;\n"
      ],
      "metadata": {
        "id": "w9JlF2MrM2hP"
      }
    },
    {
      "cell_type": "code",
      "source": [
        "import numpy as np\n",
        "import matplotlib.pyplot as plt\n",
        "\n",
        "# Указываем параметры распределения\n",
        "n = 10\n",
        "p = 0.5\n",
        "\n",
        "# Генерируем выборку из биномиального распределения\n",
        "binom_data = np.random.binomial(n, p, 200)\n",
        "binom_data"
      ],
      "metadata": {
        "colab": {
          "base_uri": "https://localhost:8080/"
        },
        "id": "7-uQOKJ5LyLX",
        "outputId": "f0fa9b3e-0ac3-4d9c-cda7-20c820fa4b91"
      },
      "execution_count": null,
      "outputs": [
        {
          "output_type": "execute_result",
          "data": {
            "text/plain": [
              "array([4, 2, 7, 5, 6, 7, 5, 4, 9, 6, 4, 3, 5, 6, 7, 4, 6, 5, 4, 8, 7, 6,\n",
              "       6, 5, 3, 7, 4, 7, 6, 6, 6, 7, 2, 6, 5, 3, 5, 6, 5, 4, 7, 5, 5, 7,\n",
              "       5, 5, 5, 4, 7, 7, 3, 5, 4, 7, 6, 7, 5, 8, 5, 5, 5, 3, 7, 6, 5, 4,\n",
              "       2, 6, 2, 6, 4, 5, 2, 7, 4, 5, 6, 3, 6, 6, 4, 3, 4, 6, 4, 2, 5, 6,\n",
              "       3, 3, 5, 5, 5, 6, 0, 5, 6, 5, 4, 6, 4, 5, 6, 5, 4, 8, 6, 4, 4, 4,\n",
              "       5, 5, 4, 2, 8, 5, 6, 6, 6, 6, 7, 4, 6, 4, 4, 5, 6, 6, 7, 2, 7, 5,\n",
              "       3, 3, 6, 5, 6, 4, 9, 8, 4, 7, 8, 5, 4, 4, 5, 5, 6, 4, 5, 5, 4, 8,\n",
              "       5, 8, 4, 5, 7, 5, 5, 7, 5, 5, 6, 4, 7, 6, 6, 4, 8, 7, 4, 6, 5, 7,\n",
              "       4, 7, 5, 7, 5, 3, 3, 6, 5, 7, 5, 5, 4, 4, 7, 5, 6, 5, 5, 6, 6, 5,\n",
              "       4, 6])"
            ]
          },
          "metadata": {},
          "execution_count": 8
        }
      ]
    },
    {
      "cell_type": "code",
      "source": [
        "# Строим гистограмму для визуализации распределения\n",
        "plt.hist(binom_data, bins=20, color='y')\n",
        "plt.title('Binomial Distribution')\n",
        "plt.show()"
      ],
      "metadata": {
        "colab": {
          "base_uri": "https://localhost:8080/",
          "height": 452
        },
        "id": "7u41FxynLO95",
        "outputId": "62599cb4-be24-4923-9a7f-d2dbe3916878"
      },
      "execution_count": null,
      "outputs": [
        {
          "output_type": "display_data",
          "data": {
            "text/plain": [
              "<Figure size 640x480 with 1 Axes>"
            ],
            "image/png": "[encoded data removed]"
          },
          "metadata": {}
        }
      ]
    },
    {
      "cell_type": "markdown",
      "source": [
        "3. exponential([scale, size]) — экспоненциальное распределение;\n"
      ],
      "metadata": {
        "id": "i1ZFo5gIUJUr"
      }
    },
    {
      "cell_type": "code",
      "source": [
        "import numpy as np\n",
        "import matplotlib.pyplot as plt\n",
        "\n",
        "# Указываем параметры распределения\n",
        "scale = 1\n",
        "\n",
        "# Генерируем выборку из экспоненциального распределения\n",
        "exp_data = np.random.exponential(scale, 200)\n",
        "exp_data"
      ],
      "metadata": {
        "colab": {
          "base_uri": "https://localhost:8080/"
        },
        "id": "lNuu1sQ1UP4v",
        "outputId": "045a4a3b-e8de-4e35-ad2f-ded85bbf8da9"
      },
      "execution_count": null,
      "outputs": [
        {
          "output_type": "execute_result",
          "data": {
            "text/plain": [
              "array([1.30846491e+00, 2.05843115e-01, 1.31426628e-01, 5.42406541e-01,\n",
              "       9.78913076e-01, 1.14897604e-01, 3.09344939e-01, 9.27255051e-02,\n",
              "       1.22218079e+00, 6.90523362e-01, 1.26027238e+00, 1.89204912e-01,\n",
              "       7.01835429e-02, 7.68841784e-01, 6.63386577e-02, 2.59854122e-01,\n",
              "       9.28189114e-02, 8.31506821e-01, 1.88263228e+00, 6.16876513e-02,\n",
              "       2.13572176e+00, 1.71735036e+00, 4.47817996e-01, 1.62594621e+00,\n",
              "       1.54043613e+00, 2.74745791e-01, 4.14425256e-01, 7.99486006e-01,\n",
              "       8.40087489e-02, 1.13293368e+00, 3.94752077e-01, 1.34830971e+00,\n",
              "       1.91616767e-01, 3.54918368e+00, 4.15702814e-01, 5.23166420e+00,\n",
              "       4.67300551e-01, 5.99857131e-01, 2.26781230e+00, 1.84807823e+00,\n",
              "       4.85834863e-01, 2.40790276e-01, 2.67502613e-01, 1.74558466e+00,\n",
              "       1.87486083e+00, 2.60724448e+00, 1.68740139e+00, 1.97526233e-01,\n",
              "       1.30845729e-01, 1.57871158e+00, 1.92276311e+00, 2.02202073e-01,\n",
              "       5.22632013e+00, 4.20897733e-01, 2.27810662e-01, 2.33202457e-01,\n",
              "       1.15307001e-01, 8.61879815e-01, 5.68463124e-01, 2.32318951e+00,\n",
              "       6.15097839e-01, 7.99617990e-02, 6.57339571e-01, 1.29561714e+00,\n",
              "       1.39989485e-01, 1.15830346e+00, 3.01217743e+00, 3.04248406e+00,\n",
              "       6.44289174e-01, 1.05303600e+00, 1.70937021e+00, 9.59317054e-01,\n",
              "       7.61548081e-02, 1.80629449e+00, 1.60869720e+00, 2.37360292e-01,\n",
              "       2.91710746e-01, 1.79958404e+00, 1.44581221e+00, 1.17136523e+00,\n",
              "       1.23874338e-01, 7.23263114e-01, 2.98549773e+00, 8.84885478e-01,\n",
              "       9.80216978e-01, 2.35940151e-01, 2.68357764e+00, 1.14009580e+00,\n",
              "       1.55395627e-01, 6.10250625e-01, 3.59862564e+00, 1.52283411e+00,\n",
              "       5.42635294e-01, 1.18625580e+00, 2.10736165e+00, 1.22011914e-01,\n",
              "       4.31400225e+00, 1.23471775e-01, 1.57529099e-01, 3.09947433e-01,\n",
              "       2.62624883e-01, 7.81594639e-01, 5.12032309e-01, 5.48482264e-01,\n",
              "       1.38867068e-01, 1.11648531e-01, 5.97313373e-01, 4.67892184e-01,\n",
              "       1.86885836e-01, 1.06426819e+00, 3.16305385e-01, 5.40477161e-01,\n",
              "       7.42388789e-01, 4.48289331e+00, 8.49783074e-01, 6.53895173e-01,\n",
              "       4.37333815e-02, 2.93505517e-01, 6.36931903e-02, 6.28481670e-01,\n",
              "       1.43123639e+00, 4.32994694e-01, 4.36014143e+00, 2.47315172e-01,\n",
              "       4.03482381e-01, 3.03153597e+00, 6.12223577e-02, 1.25851868e-02,\n",
              "       5.10418761e-02, 1.31462218e+00, 1.74048813e-01, 5.14809531e-02,\n",
              "       1.42107551e+00, 1.36166157e+00, 1.71405743e-01, 3.93281797e-01,\n",
              "       1.57437026e+00, 4.19499675e-01, 8.29627152e-02, 2.34183386e+00,\n",
              "       3.51358177e+00, 5.82696096e-01, 2.35228681e-02, 5.43296068e-01,\n",
              "       2.55549937e-01, 1.93970737e+00, 8.87112066e-01, 1.22613061e-01,\n",
              "       3.75727675e-01, 4.55099391e-01, 1.03947093e+00, 4.72347331e+00,\n",
              "       2.29741588e-01, 7.54683505e-02, 1.13237262e+00, 2.44827770e+00,\n",
              "       1.22620295e+00, 2.03157132e+00, 2.71320922e+00, 1.81355242e+00,\n",
              "       1.23816032e+00, 9.45225406e-02, 3.41405503e+00, 3.85331735e-03,\n",
              "       1.38229478e-01, 5.15197479e-01, 1.43788491e-01, 1.02518877e+00,\n",
              "       5.55824984e-01, 1.70327784e+00, 2.34638105e-01, 4.84336065e-02,\n",
              "       2.17981074e+00, 7.63187861e-01, 9.52028496e-02, 4.10566756e+00,\n",
              "       9.73103192e-02, 1.10993063e+00, 1.33447103e+00, 6.59302769e-01,\n",
              "       4.63519959e-01, 9.70802442e-01, 3.85193941e-01, 8.30654283e-01,\n",
              "       1.74270569e+00, 2.85737379e-01, 3.05192958e+00, 5.32212677e+00,\n",
              "       9.43899314e-02, 2.84777337e+00, 1.33517278e-01, 5.13918624e-02,\n",
              "       3.06665503e-01, 2.71026523e-01, 3.49350023e-01, 3.02962892e+00,\n",
              "       3.76411778e-01, 2.53854195e+00, 1.22711987e+00, 3.54967732e-01])"
            ]
          },
          "metadata": {},
          "execution_count": 10
        }
      ]
    },
    {
      "cell_type": "code",
      "source": [
        "# Строим гистограмму для визуализации распределения\n",
        "plt.hist(exp_data, bins=20, color='r')\n",
        "plt.title('Exponential Distribution')\n",
        "plt.show()"
      ],
      "metadata": {
        "colab": {
          "base_uri": "https://localhost:8080/",
          "height": 452
        },
        "id": "DPceLSwYUSF6",
        "outputId": "1278ddd6-dc5e-42e6-944a-9912d757d339"
      },
      "execution_count": null,
      "outputs": [
        {
          "output_type": "display_data",
          "data": {
            "text/plain": [
              "<Figure size 640x480 with 1 Axes>"
            ],
            "image/png": "[encoded data removed]"
          },
          "metadata": {}
        }
      ]
    },
    {
      "cell_type": "markdown",
      "source": [
        "4. gamma(shape[, scale, size]) — гамма-распределение;"
      ],
      "metadata": {
        "id": "7a4cK37kUUH6"
      }
    },
    {
      "cell_type": "code",
      "source": [
        "import numpy as np\n",
        "import matplotlib.pyplot as plt\n",
        "\n",
        "# Указываем параметры распределения\n",
        "shape = 2\n",
        "scale = 1\n",
        "\n",
        "# Генерируем выборку из гамма-распределения\n",
        "gamma_data = np.random.gamma(shape, scale, 200)\n",
        "gamma_data"
      ],
      "metadata": {
        "colab": {
          "base_uri": "https://localhost:8080/"
        },
        "id": "48C9pOgHUWAE",
        "outputId": "2b8c340a-369d-4e8e-87f1-fd7771570c85"
      },
      "execution_count": null,
      "outputs": [
        {
          "output_type": "execute_result",
          "data": {
            "text/plain": [
              "array([2.15066273, 3.43957546, 2.86631276, 0.47226173, 4.11917107,\n",
              "       1.93485519, 1.31277001, 4.4615497 , 2.46262196, 6.0873855 ,\n",
              "       0.55323246, 2.26982191, 1.61052986, 0.82737312, 1.63791396,\n",
              "       0.95414901, 3.3320248 , 5.07366994, 0.59774799, 0.51366523,\n",
              "       3.1640547 , 1.26279726, 0.36443734, 0.33204767, 4.3979664 ,\n",
              "       0.63461998, 3.01028883, 2.33736081, 2.65565915, 1.29287804,\n",
              "       0.60742275, 2.38429854, 2.49947412, 1.54255315, 1.30692708,\n",
              "       0.50481972, 5.31208045, 2.91446471, 2.61929911, 2.04495504,\n",
              "       2.84632593, 3.61293489, 1.16231664, 2.58456825, 2.2174553 ,\n",
              "       1.51118878, 1.80996487, 2.57948384, 0.2648089 , 0.54439944,\n",
              "       1.43603692, 2.20835595, 5.24610163, 0.12375622, 2.3388999 ,\n",
              "       1.58056843, 0.46522472, 2.97165597, 1.78171704, 0.24059316,\n",
              "       3.91543236, 0.73601512, 1.79833394, 0.2029253 , 4.42093646,\n",
              "       0.64659304, 1.13347981, 0.64356039, 3.85274251, 1.0094275 ,\n",
              "       2.18916255, 2.85803757, 0.39833971, 2.05058295, 1.11605624,\n",
              "       4.82315345, 2.80443049, 1.13482442, 1.68383729, 1.36948335,\n",
              "       0.58484757, 2.03399218, 4.22530326, 2.71135541, 2.96964895,\n",
              "       4.23996944, 1.28347019, 4.89371881, 1.93285196, 0.4806086 ,\n",
              "       4.97972375, 2.18787114, 0.40273592, 6.70639853, 3.00579615,\n",
              "       3.50512983, 3.4547713 , 1.3667067 , 0.54650817, 4.51499021,\n",
              "       3.32521754, 0.58110421, 2.07124811, 3.346351  , 2.54487225,\n",
              "       0.89610728, 1.80008459, 1.13881485, 1.71941979, 3.32458147,\n",
              "       3.7622947 , 0.98903936, 2.43102513, 0.65552695, 2.36441544,\n",
              "       1.8333161 , 2.34973149, 1.48517066, 1.43594664, 0.96951402,\n",
              "       1.59892788, 0.45749699, 1.80613189, 0.1341117 , 2.005056  ,\n",
              "       0.10472636, 0.86964035, 0.4021944 , 1.56265355, 1.39362071,\n",
              "       1.9293947 , 0.74644607, 1.39891978, 0.12013678, 0.941919  ,\n",
              "       1.8605786 , 1.6222133 , 3.78227726, 2.20153586, 1.53572309,\n",
              "       0.81241428, 3.20744483, 0.74651942, 1.09937234, 4.2129566 ,\n",
              "       3.39601883, 2.47773947, 1.10227826, 0.95455917, 3.58070463,\n",
              "       2.19442684, 1.74477686, 0.4043605 , 0.90277276, 0.51201163,\n",
              "       6.03652413, 1.52261519, 3.05808108, 3.76571238, 2.54372711,\n",
              "       2.24124771, 0.97944899, 3.67601901, 3.03935214, 1.58814373,\n",
              "       0.52902907, 1.98001455, 0.79347445, 0.20070222, 1.98613506,\n",
              "       1.36809408, 1.66777273, 1.26761879, 1.18101036, 4.16484166,\n",
              "       2.5577715 , 2.94016801, 0.71661532, 1.21708991, 1.06101571,\n",
              "       1.94391399, 5.36171321, 2.96825226, 4.47664734, 2.95822672,\n",
              "       2.23407845, 1.29012705, 2.83122731, 1.38946941, 2.00845846,\n",
              "       2.82648323, 1.69650529, 1.32567236, 0.75492199, 1.8212166 ,\n",
              "       1.54903192, 3.61402493, 4.93452788, 2.38531373, 6.31970489])"
            ]
          },
          "metadata": {},
          "execution_count": 12
        }
      ]
    },
    {
      "cell_type": "code",
      "source": [
        "# Строим гистограмму для визуализации распределения\n",
        "plt.hist(gamma_data, bins=20, color='b')\n",
        "plt.title('Gamma Distribution')\n",
        "plt.show()"
      ],
      "metadata": {
        "colab": {
          "base_uri": "https://localhost:8080/",
          "height": 452
        },
        "id": "yBQiUGf-UWaj",
        "outputId": "819c3f2d-d3af-4993-f57c-a79d9332562f"
      },
      "execution_count": null,
      "outputs": [
        {
          "output_type": "display_data",
          "data": {
            "text/plain": [
              "<Figure size 640x480 with 1 Axes>"
            ],
            "image/png": "[encoded data removed]"
          },
          "metadata": {}
        }
      ]
    },
    {
      "cell_type": "markdown",
      "source": [
        "5. geometric(p[, size]) — геометрическое распределение;"
      ],
      "metadata": {
        "id": "3yD3EvINUW_k"
      }
    },
    {
      "cell_type": "code",
      "source": [
        "import numpy as np\n",
        "import matplotlib.pyplot as plt\n",
        "\n",
        "# Указываем параметры распределения\n",
        "p = 0.3\n",
        "\n",
        "# Генерируем выборку из геометрического распределения\n",
        "geo_data = np.random.geometric(p, 200)\n",
        "geo_data"
      ],
      "metadata": {
        "colab": {
          "base_uri": "https://localhost:8080/"
        },
        "id": "FHUdtEIpUXls",
        "outputId": "2548b27f-a179-44c6-9684-58456adb5742"
      },
      "execution_count": null,
      "outputs": [
        {
          "output_type": "execute_result",
          "data": {
            "text/plain": [
              "array([ 6,  2,  8,  1,  4,  1,  7,  9,  5,  3,  5,  1,  1,  4,  3,  1,  6,\n",
              "        1, 19,  2,  1,  1,  2,  2,  1,  2,  2,  1,  1,  2,  5,  3,  5,  2,\n",
              "        1,  6,  2,  4,  2,  6,  3,  1,  2,  2,  6,  1,  1,  2,  3,  3,  1,\n",
              "        1,  2,  2,  2,  1,  1, 13,  2,  4,  1,  3,  7,  1,  2,  2,  1,  3,\n",
              "        1,  2,  4,  3,  1,  3,  5,  5,  1,  1,  6,  6,  5,  1,  2,  1,  4,\n",
              "        5,  2,  6,  2,  3,  4,  2,  1,  1,  5,  2,  1,  1, 14,  1,  7,  2,\n",
              "        1,  1,  4,  1,  1,  1,  2,  5,  1,  5,  1,  2,  5,  1,  7,  2,  3,\n",
              "        2,  5,  1,  6,  4,  5,  2,  4,  5,  8, 14,  2,  3,  3,  3,  2,  5,\n",
              "        1,  1,  1,  2,  3,  1,  2,  2,  4,  2,  8,  1,  2,  2,  1,  4,  4,\n",
              "        1,  1,  1,  8,  4,  1,  3,  1,  1,  1,  1,  2,  3,  6,  2,  4,  3,\n",
              "        1,  2,  3,  4,  1,  3,  5, 13,  4,  3,  1,  9,  7,  3,  2,  1,  4,\n",
              "        4, 21,  5,  3,  3,  1,  3,  3,  3,  1,  2,  2,  1])"
            ]
          },
          "metadata": {},
          "execution_count": 14
        }
      ]
    },
    {
      "cell_type": "code",
      "source": [
        "# Строим гистограмму для визуализации распределения\n",
        "plt.hist(geo_data, bins=20, color='g')\n",
        "plt.title('Geometric Distribution')\n",
        "plt.show()"
      ],
      "metadata": {
        "colab": {
          "base_uri": "https://localhost:8080/",
          "height": 452
        },
        "id": "HQWXAz15UYHj",
        "outputId": "c5f52735-1e73-472f-c430-b930f61e45e1"
      },
      "execution_count": null,
      "outputs": [
        {
          "output_type": "display_data",
          "data": {
            "text/plain": [
              "<Figure size 640x480 with 1 Axes>"
            ],
            "image/png": "[encoded data removed]"
          },
          "metadata": {}
        }
      ]
    },
    {
      "cell_type": "markdown",
      "source": [
        "6. normal([loc, scale, size]) — нормальное распределение;"
      ],
      "metadata": {
        "id": "kTwYcBM_Umt7"
      }
    },
    {
      "cell_type": "code",
      "source": [
        "import numpy as np\n",
        "import matplotlib.pyplot as plt\n",
        "\n",
        "# Указываем параметры распределения\n",
        "loc = 0\n",
        "scale = 1\n",
        "\n",
        "# Генерируем выборку из нормального распределения\n",
        "normal_data = np.random.normal(loc, scale, 200)\n",
        "normal_data"
      ],
      "metadata": {
        "colab": {
          "base_uri": "https://localhost:8080/"
        },
        "id": "PnD4_lnpUpGR",
        "outputId": "fb5ab263-a552-46eb-8535-f286c20c3e73"
      },
      "execution_count": null,
      "outputs": [
        {
          "output_type": "execute_result",
          "data": {
            "text/plain": [
              "array([ 0.21267324,  0.42892057,  0.24245665,  0.29813244, -0.94512534,\n",
              "       -0.18593681,  0.04608404,  2.13873002, -0.67750512,  0.07274374,\n",
              "       -0.73946575,  1.08297893, -1.55208216,  0.57641435, -0.27457934,\n",
              "        1.37392791, -0.26160426,  2.06440412, -1.8488945 ,  0.67392861,\n",
              "        0.53695451, -0.43218214, -0.69982215, -0.75403365,  1.08779819,\n",
              "       -1.79831823, -1.6502102 , -0.19700524,  0.11312453, -0.52511928,\n",
              "       -0.81441507, -0.41854306, -1.34726423,  1.12675334,  0.4057632 ,\n",
              "        2.00072553, -0.31750054,  1.05390346, -1.14816145,  0.27944904,\n",
              "        1.12079867, -1.03417143,  0.88984858, -0.20802238,  0.94287364,\n",
              "       -0.16195288,  2.59087034,  0.36605394, -0.79315239, -0.93931876,\n",
              "       -0.89752867, -1.04660375,  0.12907146,  1.35522283, -1.22423934,\n",
              "        0.53216111, -0.22798596, -0.63644842, -1.75555431,  0.27476433,\n",
              "       -1.02364278, -0.86591345,  1.26774413,  2.15459485,  0.16371294,\n",
              "       -0.90103823, -0.9183332 , -0.05220579,  0.17967551,  0.65828018,\n",
              "       -1.07018744,  0.30359231,  0.21240863,  1.12457553,  0.17786643,\n",
              "        0.44278085,  0.27472428,  0.81720428, -1.77106091, -2.21661866,\n",
              "        0.76442623,  0.20917469,  1.21652473, -0.76927477,  0.75977844,\n",
              "        0.49645932, -0.3698579 , -1.62847761, -0.30894659,  0.75745827,\n",
              "       -0.83784015, -1.98491498,  0.01297571, -1.35166105, -0.65465045,\n",
              "        1.16693988, -0.36675222, -0.3985969 , -0.49413338, -1.04870839,\n",
              "       -0.28669617,  1.90846683, -0.96778226,  0.24350159, -1.38789556,\n",
              "       -0.30626954,  0.22976237, -1.2790192 , -0.30165983,  1.1921404 ,\n",
              "       -0.59323814,  0.34710347, -1.35627408,  0.33559442,  2.60887895,\n",
              "        1.27809667, -1.68239998, -0.47843306,  0.47911895, -0.10971149,\n",
              "        1.57306361, -1.74220662,  1.27696065, -1.76349052,  0.88421711,\n",
              "       -0.21827374, -0.64906215, -1.47968945,  0.11284487, -2.61162076,\n",
              "        1.0210779 , -0.03647814, -0.22329725,  1.27740728,  1.85006465,\n",
              "        0.05592091, -1.07195191,  0.66702104, -0.81646533, -0.80127806,\n",
              "       -0.51964366,  0.20729092,  1.66383104,  0.15344005,  0.35462878,\n",
              "       -0.15842897,  1.43829926,  0.19993012, -1.69465633,  0.6948136 ,\n",
              "        1.28226203, -1.94287343, -0.03439377, -1.11267785,  1.25525153,\n",
              "        1.05840951,  0.862869  , -0.538945  ,  0.8661949 , -1.44716237,\n",
              "        0.06674141, -0.62053295,  0.85675952,  0.66447926, -1.7695379 ,\n",
              "       -0.13301034, -1.24896055, -0.79636468, -1.09571907, -0.38155972,\n",
              "        1.38624166, -0.44032869,  1.5823511 , -0.42565846,  2.31912533,\n",
              "       -0.68020117, -1.01343764,  0.43520812,  0.6772652 , -1.09175736,\n",
              "       -0.50368722, -0.25283727,  0.74936391, -0.03773344,  0.10571303,\n",
              "       -0.22599178,  0.75791743,  0.01942432, -0.76575138,  0.12412635,\n",
              "        0.05871616, -2.25901737,  0.64407014, -0.22139823,  1.67002183,\n",
              "       -0.02613029,  1.46486944,  0.24330636, -0.21305072,  0.78724956])"
            ]
          },
          "metadata": {},
          "execution_count": 16
        }
      ]
    },
    {
      "cell_type": "code",
      "source": [
        "# Строим гистограмму для визуализации распределения\n",
        "plt.hist(normal_data, bins=20, color='m')\n",
        "plt.title('Normal Distribution')\n",
        "plt.show()"
      ],
      "metadata": {
        "colab": {
          "base_uri": "https://localhost:8080/",
          "height": 452
        },
        "id": "6Y1p3MCMUphB",
        "outputId": "fea3ceb8-6ce1-4526-e54a-eb031dedeb2a"
      },
      "execution_count": null,
      "outputs": [
        {
          "output_type": "display_data",
          "data": {
            "text/plain": [
              "<Figure size 640x480 with 1 Axes>"
            ],
            "image/png": "[encoded data removed]"
          },
          "metadata": {}
        }
      ]
    },
    {
      "cell_type": "markdown",
      "source": [
        "7. poisson([lam, size]) — пуассоновское распределение;"
      ],
      "metadata": {
        "id": "FQ799czEUp4n"
      }
    },
    {
      "cell_type": "code",
      "source": [
        "import numpy as np\n",
        "import matplotlib.pyplot as plt\n",
        "\n",
        "# Указываем параметры распределения\n",
        "lam = 3\n",
        "\n",
        "# Генерируем выборку из пуассоновского распределения\n",
        "poisson_data = np.random.poisson(lam, 200)\n",
        "poisson_data"
      ],
      "metadata": {
        "colab": {
          "base_uri": "https://localhost:8080/"
        },
        "id": "D7vRIdX6U7FK",
        "outputId": "5ea01aad-c559-4487-f2de-d02814c4df6c"
      },
      "execution_count": null,
      "outputs": [
        {
          "output_type": "execute_result",
          "data": {
            "text/plain": [
              "array([1, 3, 3, 7, 4, 4, 1, 3, 0, 4, 3, 1, 5, 2, 4, 3, 5, 3, 4, 3, 2, 4,\n",
              "       3, 1, 2, 2, 3, 3, 4, 3, 2, 3, 1, 1, 2, 2, 2, 4, 5, 4, 3, 3, 2, 3,\n",
              "       2, 2, 2, 5, 3, 5, 6, 1, 3, 7, 6, 1, 1, 3, 2, 2, 5, 3, 1, 4, 1, 1,\n",
              "       2, 3, 2, 3, 4, 3, 1, 4, 0, 5, 2, 1, 4, 2, 2, 0, 3, 4, 1, 3, 2, 1,\n",
              "       2, 0, 2, 3, 4, 3, 1, 1, 1, 3, 6, 2, 1, 1, 2, 3, 2, 5, 2, 1, 2, 3,\n",
              "       2, 1, 1, 5, 1, 2, 4, 3, 2, 4, 6, 4, 4, 6, 2, 1, 3, 7, 3, 4, 2, 2,\n",
              "       0, 2, 2, 4, 2, 3, 3, 0, 3, 1, 8, 3, 1, 6, 3, 2, 1, 4, 3, 2, 1, 4,\n",
              "       4, 3, 2, 6, 0, 2, 7, 2, 4, 1, 5, 2, 8, 2, 5, 4, 2, 3, 3, 2, 2, 2,\n",
              "       1, 3, 4, 0, 4, 1, 5, 2, 3, 6, 2, 2, 2, 6, 2, 3, 3, 3, 2, 2, 4, 1,\n",
              "       3, 1])"
            ]
          },
          "metadata": {},
          "execution_count": 18
        }
      ]
    },
    {
      "cell_type": "code",
      "source": [
        "# Строим гистограмму для визуализации распределения\n",
        "plt.hist(poisson_data, bins=20, color='r')\n",
        "plt.title('Poisson Distribution')\n",
        "plt.show()"
      ],
      "metadata": {
        "colab": {
          "base_uri": "https://localhost:8080/",
          "height": 452
        },
        "id": "SUd2sDDGU7wK",
        "outputId": "f51e281e-7673-4f1e-ecdd-80754d69a28e"
      },
      "execution_count": null,
      "outputs": [
        {
          "output_type": "display_data",
          "data": {
            "text/plain": [
              "<Figure size 640x480 with 1 Axes>"
            ],
            "image/png": "[encoded data removed]"
          },
          "metadata": {}
        }
      ]
    },
    {
      "cell_type": "markdown",
      "source": [
        "8. uniform([low, high, size]) — равномерное распределение."
      ],
      "metadata": {
        "id": "j2XeNzwXU8Fe"
      }
    },
    {
      "cell_type": "code",
      "source": [
        "import numpy as np\n",
        "import matplotlib.pyplot as plt\n",
        "\n",
        "# Указываем параметры распределения\n",
        "low = 0\n",
        "high = 1\n",
        "\n",
        "# Генерируем выборку из равномерного распределения\n",
        "uniform_data = np.random.uniform(low, high, 200)\n",
        "uniform_data"
      ],
      "metadata": {
        "colab": {
          "base_uri": "https://localhost:8080/"
        },
        "id": "bZ0OLMQFU9Tn",
        "outputId": "33ded96e-259e-4756-d790-d52f6815e721"
      },
      "execution_count": null,
      "outputs": [
        {
          "output_type": "execute_result",
          "data": {
            "text/plain": [
              "array([0.50197027, 0.56909412, 0.78861324, 0.31782298, 0.49324417,\n",
              "       0.52742618, 0.19377755, 0.00432602, 0.32585057, 0.04801522,\n",
              "       0.34427613, 0.22552503, 0.52637593, 0.83130187, 0.40193385,\n",
              "       0.47568414, 0.33143262, 0.93987218, 0.64403323, 0.39698751,\n",
              "       0.72981714, 0.45362296, 0.89034672, 0.03806193, 0.13371288,\n",
              "       0.99410167, 0.77880525, 0.62550996, 0.4753351 , 0.85334881,\n",
              "       0.88085546, 0.61040635, 0.31540814, 0.59086426, 0.24031325,\n",
              "       0.79360276, 0.64688084, 0.99609826, 0.59796321, 0.81638865,\n",
              "       0.62684431, 0.64987472, 0.51394394, 0.13367549, 0.72566639,\n",
              "       0.08286703, 0.16260209, 0.9218258 , 0.52615808, 0.33090995,\n",
              "       0.51486295, 0.04916219, 0.37835733, 0.56861041, 0.43968582,\n",
              "       0.66578672, 0.06108705, 0.20696105, 0.59588102, 0.04186511,\n",
              "       0.79271228, 0.4937669 , 0.38697569, 0.94097562, 0.11760113,\n",
              "       0.61793766, 0.72361388, 0.40103701, 0.37042009, 0.58726061,\n",
              "       0.7001899 , 0.73402779, 0.885655  , 0.183274  , 0.85920384,\n",
              "       0.72751986, 0.83851148, 0.1453057 , 0.59051073, 0.93647151,\n",
              "       0.63366282, 0.93635997, 0.11677881, 0.55874397, 0.76345312,\n",
              "       0.61707747, 0.23712121, 0.45255664, 0.34361822, 0.89069762,\n",
              "       0.91274684, 0.94984085, 0.24219339, 0.26831604, 0.47308386,\n",
              "       0.43565994, 0.36875161, 0.70809406, 0.67513588, 0.02210066,\n",
              "       0.4744456 , 0.1390411 , 0.84012002, 0.71737778, 0.02095127,\n",
              "       0.27866477, 0.45391609, 0.52451846, 0.8833528 , 0.51054105,\n",
              "       0.0267413 , 0.30947318, 0.59441865, 0.24506033, 0.3395299 ,\n",
              "       0.59130753, 0.90237804, 0.23085583, 0.3283519 , 0.59586464,\n",
              "       0.26467941, 0.98177141, 0.89608252, 0.47686169, 0.09311312,\n",
              "       0.4864232 , 0.49250292, 0.02098181, 0.19110259, 0.26829598,\n",
              "       0.02676796, 0.73877707, 0.92497275, 0.31943124, 0.62832332,\n",
              "       0.95666386, 0.84115685, 0.99659344, 0.73676935, 0.89674206,\n",
              "       0.61134232, 0.30602818, 0.59363893, 0.83126151, 0.58048699,\n",
              "       0.23603401, 0.9868858 , 0.23890869, 0.9587133 , 0.4241946 ,\n",
              "       0.25940583, 0.89971391, 0.57605589, 0.96643216, 0.42493185,\n",
              "       0.33551985, 0.00161558, 0.1531648 , 0.73050989, 0.41680075,\n",
              "       0.424832  , 0.58624612, 0.29497069, 0.72683464, 0.40569684,\n",
              "       0.591114  , 0.71722316, 0.81637725, 0.48179236, 0.87582315,\n",
              "       0.61942627, 0.41172131, 0.03328355, 0.97110904, 0.43482121,\n",
              "       0.71437123, 0.60568294, 0.96238251, 0.1391986 , 0.07937318,\n",
              "       0.00559912, 0.64365769, 0.46419963, 0.36213461, 0.71114145,\n",
              "       0.44158378, 0.72992872, 0.68891588, 0.66562113, 0.03476303,\n",
              "       0.85400901, 0.2663829 , 0.03534657, 0.94768955, 0.08593004,\n",
              "       0.74349424, 0.68117213, 0.14152733, 0.04338257, 0.28836801])"
            ]
          },
          "metadata": {},
          "execution_count": 20
        }
      ]
    },
    {
      "cell_type": "code",
      "source": [
        "# Строим гистограмму для визуализации распределения\n",
        "plt.hist(uniform_data, bins=30, color='orange')\n",
        "plt.title('Uniform Distribution')\n",
        "plt.show()"
      ],
      "metadata": {
        "colab": {
          "base_uri": "https://localhost:8080/",
          "height": 452
        },
        "id": "aWGbqbEwU8zj",
        "outputId": "6d77dbe8-095c-4c64-8287-de49e4fddcc1"
      },
      "execution_count": null,
      "outputs": [
        {
          "output_type": "display_data",
          "data": {
            "text/plain": [
              "<Figure size 640x480 with 1 Axes>"
            ],
            "image/png": "[encoded data removed]"
          },
          "metadata": {}
        }
      ]
    },
    {
      "cell_type": "code",
      "source": [],
      "metadata": {
        "id": "Lf_UimVHZZbH"
      },
      "execution_count": null,
      "outputs": []
    }
  ]
}